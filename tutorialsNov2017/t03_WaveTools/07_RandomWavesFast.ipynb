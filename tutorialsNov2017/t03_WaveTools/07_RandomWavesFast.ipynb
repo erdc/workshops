{
 "cells": [
  {
   "cell_type": "markdown",
   "metadata": {},
   "source": [
    "Using RandomWavesFast class\n",
    "====================================================\n",
    "\n",
    "In this notebook, we describe how we can generate random waves in an optimised manner using the RandomWavesFast. We load the RandomWaves and RandomWavesFast classes for generating the same wave time seriesand we compare computational times.  "
   ]
  },
  {
   "cell_type": "code",
   "execution_count": 3,
   "metadata": {
    "collapsed": false
   },
   "outputs": [],
   "source": [
    "%matplotlib inline\n",
    "from matplotlib import pyplot as plt\n",
    "import matplotlib.animation as animation\n",
    "import numpy as np\n",
    "import sys\n",
    "#Append path of local proteus installation\n",
    "sys.path.append(\"D:/Work/My repos/proteus/\")\n",
    "sys.path.append(\"D:/Work/My repos/proteus/proteus\")\n",
    "\n",
    "#The notebook will work with the following commit:\n",
    "#https://github.com/erdc/proteus/commit/9bb34b3563b5ddab6cb1dd9f75173da2710d2a41\n",
    "import imp\n",
    "WT = imp.load_source('WaveTools', 'D:/Work/My repos/proteus/proteus/WaveTools.py')\n",
    "import time \n",
    "#from proteus import WaveTools as WT\n",
    "\n",
    "Tp = 2.\n",
    "Hs = 0.05\n",
    "mwl = 1.\n",
    "depth = 1.\n",
    "g = np.array([0., -9.81, 0])\n",
    "N = 500\n",
    "bandFactor = 2.\n",
    "spectName = \"JONSWAP\"\n",
    "spectral_params = None\n",
    "waveDir = np.array([1., 0., 0.])\n",
    "\n",
    "phi = 2.0*3.14159*np.random.random(N)\n"
   ]
  },
  {
   "cell_type": "markdown",
   "metadata": {},
   "source": [
    "Calling RandomWaves and RandomWavesFast class to generate the free surface elevation and velocities"
   ]
  },
  {
   "cell_type": "code",
   "execution_count": 5,
   "metadata": {
    "collapsed": false
   },
   "outputs": [
    {
     "ename": "NameError",
     "evalue": "name 'WT' is not defined",
     "output_type": "error",
     "traceback": [
      "\u001b[1;31m---------------------------------------------------------------------------\u001b[0m",
      "\u001b[1;31mNameError\u001b[0m                                 Traceback (most recent call last)",
      "\u001b[1;32m<ipython-input-2-354720061d50>\u001b[0m in \u001b[0;36m<module>\u001b[1;34m()\u001b[0m\n\u001b[0;32m      2\u001b[0m \u001b[1;33m\u001b[0m\u001b[0m\n\u001b[0;32m      3\u001b[0m \u001b[1;33m\u001b[0m\u001b[0m\n\u001b[1;32m----> 4\u001b[1;33m RW = WT.RandomWaves(Tp,\n\u001b[0m\u001b[0;32m      5\u001b[0m                  \u001b[0mHs\u001b[0m\u001b[1;33m,\u001b[0m\u001b[1;33m\u001b[0m\u001b[0m\n\u001b[0;32m      6\u001b[0m                  \u001b[0mmwl\u001b[0m\u001b[1;33m,\u001b[0m\u001b[1;33m\u001b[0m\u001b[0m\n",
      "\u001b[1;31mNameError\u001b[0m: name 'WT' is not defined"
     ]
    }
   ],
   "source": [
    "%tb\n",
    "\n",
    "\n",
    "RW = WT.RandomWaves(Tp,\n",
    "                 Hs,\n",
    "                 mwl,\n",
    "                 depth,\n",
    "                 waveDir,\n",
    "                 g,\n",
    "                 N,\n",
    "                 bandFactor,\n",
    "                 spectName,\n",
    "                 spectral_params,\n",
    "                 phi\n",
    "                )\n",
    "nperiod = 80\n",
    "npoints = 25\n",
    "n = npoints * nperiod\n",
    "tnlist=np.linspace(0,nperiod*Tp,n)\n",
    "xlist=np.zeros((25,3),)\n",
    "xlist[:,0]=np.linspace(0,5,25)\n",
    "Lgen =np.array([0,0.,0.])\n",
    "\n",
    "\n",
    "\n",
    "RW_Fast = WT.RandomWavesFast(tnlist[0],\n",
    "                            tnlist[-1],\n",
    "                            xlist[0],\n",
    "                            Tp,\n",
    "                            Hs,\n",
    "                            mwl,#m significant wave height\n",
    "                            depth , #m depth\n",
    "                            waveDir,\n",
    "                            g, #peak frequency\n",
    "                            N,\n",
    "                            bandFactor, #accelerationof gravity\n",
    "                            spectName ,# random words will result in error and return the available spectra\n",
    "                            spectral_params, #JONPARAMS = {\"gamma\": 3.3, \"TMA\":True,\"depth\": depth}\n",
    "                            phi,\n",
    "                            Lgen = Lgen,\n",
    "                            Nfreq = 16,\n",
    "                            Nwaves = 8,\n",
    "                            checkAcc = False)\n"
   ]
  },
  {
   "cell_type": "code",
   "execution_count": 33,
   "metadata": {
    "collapsed": false
   },
   "outputs": [
    {
     "name": "stdout",
     "output_type": "stream",
     "text": [
      "{'Tlag': 0.0, 'TOverlap': 10.275229357798162, 'TWindow': 14.678899082568805}\n"
     ]
    }
   ],
   "source": [
    "wind = RW_Fast.windOut()\n",
    "print wind\n",
    "\n",
    "x = xlist[0]\n",
    "\n",
    "series = RW.writeEtaSeries(tnlist[0],tnlist[-1],x,\"test.txt\",4.*Lgen)\n",
    "\n",
    "tnlist = series[:,0] \n",
    "eta_t = np.zeros(len(tnlist),)\n",
    "\n",
    "\n",
    "t1  =-time.clock()\n",
    "for i in range(len(tnlist)):\n",
    "    t = tnlist[i]\n",
    "    eta_t[i] = RW.eta(x, t)\n",
    "t1 = t1 + time.clock()\n",
    "\n",
    "eta_ts = eta_t.copy()\n",
    "\n",
    "#Calculating time series\n",
    "t2 = -time.clock()\n",
    "for i in range(len(tnlist)):\n",
    "    t = tnlist[i]\n",
    "    eta_ts[i] = RW_Fast.eta(x, t)\n",
    "t2 = t2 +  time.clock()\n",
    "\n",
    "\n"
   ]
  },
  {
   "cell_type": "markdown",
   "metadata": {},
   "source": [
    "Next, we compare the two generated time series in terms of data and execution time"
   ]
  },
  {
   "cell_type": "code",
   "execution_count": 34,
   "metadata": {
    "collapsed": false
   },
   "outputs": [
    {
     "name": "stdout",
     "output_type": "stream",
     "text": [
      "0.0143207948078\n",
      "25.257726254\n"
     ]
    },
    {
     "data": {
      "image/png": "[encoded data removed]",
      "text/plain": [
       "<matplotlib.figure.Figure at 0x6b99da0>"
      ]
     },
     "metadata": {},
     "output_type": "display_data"
    }
   ],
   "source": [
    "#Plotting both time series from time series file and wave class\n",
    "ii = np.where(tnlist>0)[0][0]\n",
    "jj=np.where(tnlist>150)[0][0]\n",
    "\n",
    "psize = 20\n",
    "import time, sys\n",
    "from IPython.display import clear_output\n",
    "\n",
    "print(max(eta_t[ii:jj]-eta_ts[ii:jj]))/Hs\n",
    "\n",
    "plt.figure(0, figsize=(10,3), dpi=300)\n",
    "plt.grid()\n",
    "plt.plot(tnlist, eta_t[:], color='black', label=\"RandomWaves\")\n",
    "plt.plot(tnlist, eta_ts[:], \"k--\", label=\"RandomWavesFast\")\n",
    "plt.ylim(-0.1,0.1)\n",
    "plt.xlabel(\"t (m)\", fontsize = psize)\n",
    "plt.ylabel(\"$\\eta$ (m)\",fontsize = psize)\n",
    "dur = series[-1,0]-series[0,0]\n",
    "cut =2*Tp\n",
    "\n",
    "plt.xlim(140,series[-1,0]-cut)   \n",
    "    \n",
    "print t1/t2"
   ]
  },
  {
   "cell_type": "code",
   "execution_count": null,
   "metadata": {
    "collapsed": true
   },
   "outputs": [],
   "source": []
  },
  {
   "cell_type": "code",
   "execution_count": null,
   "metadata": {
    "collapsed": false
   },
   "outputs": [],
   "source": [
    "a\n",
    "a\n",
    "a\n",
    "a\n",
    "a\n",
    "\n",
    "a\n",
    "a\n",
    "a\n",
    "a\n",
    "a\n",
    "a\n",
    "\n",
    "a\n",
    "a\n",
    "a\n",
    "a\n",
    "\n",
    "a\n",
    "a\n",
    "a\n",
    "a\n",
    "a"
   ]
  }
 ],
 "metadata": {
  "kernelspec": {
   "display_name": "Python 2",
   "language": "python",
   "name": "python2"
  },
  "language_info": {
   "codemirror_mode": {
    "name": "ipython",
    "version": 2
   },
   "file_extension": ".py",
   "mimetype": "text/x-python",
   "name": "python",
   "nbconvert_exporter": "python",
   "pygments_lexer": "ipython2",
   "version": "2.7.11"
  }
 },
 "nbformat": 4,
 "nbformat_minor": 0
}
